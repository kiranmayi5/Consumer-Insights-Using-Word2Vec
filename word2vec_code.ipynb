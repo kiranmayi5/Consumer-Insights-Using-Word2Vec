{
 "cells": [
  {
   "cell_type": "code",
   "execution_count": 1,
   "metadata": {
    "id": "f4FBkpBLWLaY"
   },
   "outputs": [],
   "source": [
    "from gensim.models.word2vec import Word2Vec"
   ]
  },
  {
   "cell_type": "code",
   "execution_count": 2,
   "metadata": {
    "id": "lQ7t7fxJWwzV"
   },
   "outputs": [],
   "source": [
    "import re\n",
    "from sklearn import feature_extraction \n",
    "stop_words = feature_extraction.text.ENGLISH_STOP_WORDS\n",
    "from nltk.stem import PorterStemmer\n",
    "from nltk.stem import WordNetLemmatizer\n",
    "\n",
    "def preprocess(text):\n",
    "  text = text.lower() #lowercase\n",
    "  text = re.sub(r'[^\\w\\s]', '', text) #remove punctuations\n",
    "  text = re.sub(r'\\d+', '', text) #remove numbers\n",
    "  text = \" \".join(text.split()) #stripWhitespace\n",
    "  text = text.split()\n",
    "  text = [x for x in text if x not in stop_words] #remove stopwords\n",
    "  text = [x for x in text if x not in [\"dr\", \"doctor\"]] #remove task specific stopwords\n",
    "  text = \" \".join(text)\n",
    "  # stemmer_ps = PorterStemmer()  \n",
    "  # text = [stemmer_ps.stem(word) for word in text.split()] #stemming\n",
    "  # text = \" \".join(text)\n",
    "  # lemmatizer = WordNetLemmatizer()\n",
    "  # text = [lemmatizer.lemmatize(word) for word in text.split()]  #lemmatization\n",
    "  # text = \" \".join(text)\n",
    "  return(text)"
   ]
  },
  {
   "cell_type": "code",
   "execution_count": 3,
   "metadata": {
    "id": "SFZ0jnIXW6gS"
   },
   "outputs": [],
   "source": [
    "import pandas as pd\n",
    "data = pd.read_csv('nykaa_data.csv')"
   ]
  },
  {
   "cell_type": "code",
   "execution_count": 4,
   "metadata": {
    "id": "5kmpBDzAXNCV"
   },
   "outputs": [],
   "source": [
    "data['review_processed']=data['review_text'].apply(lambda x:preprocess(str(x)))\n",
    "data['review_processed']=data['review_processed'].apply(lambda x:x.split())\n"
   ]
  },
  {
   "cell_type": "code",
   "execution_count": 5,
   "metadata": {
    "colab": {
     "base_uri": "https://localhost:8080/",
     "height": 1000
    },
    "id": "sdJ7aqiYXpb5",
    "outputId": "b859b383-7e8e-439f-ac53-534a3fb180c2"
   },
   "outputs": [
    {
     "data": {
      "text/html": [
       "<div>\n",
       "<style scoped>\n",
       "    .dataframe tbody tr th:only-of-type {\n",
       "        vertical-align: middle;\n",
       "    }\n",
       "\n",
       "    .dataframe tbody tr th {\n",
       "        vertical-align: top;\n",
       "    }\n",
       "\n",
       "    .dataframe thead th {\n",
       "        text-align: right;\n",
       "    }\n",
       "</style>\n",
       "<table border=\"1\" class=\"dataframe\">\n",
       "  <thead>\n",
       "    <tr style=\"text-align: right;\">\n",
       "      <th></th>\n",
       "      <th>product_id</th>\n",
       "      <th>brand_name</th>\n",
       "      <th>review_id</th>\n",
       "      <th>review_title</th>\n",
       "      <th>review_text</th>\n",
       "      <th>author</th>\n",
       "      <th>review_date</th>\n",
       "      <th>review_rating</th>\n",
       "      <th>is_a_buyer</th>\n",
       "      <th>pro_user</th>\n",
       "      <th>review_label</th>\n",
       "      <th>product_title</th>\n",
       "      <th>mrp</th>\n",
       "      <th>price</th>\n",
       "      <th>product_rating</th>\n",
       "      <th>product_rating_count</th>\n",
       "      <th>product_tags</th>\n",
       "      <th>product_url</th>\n",
       "      <th>review_processed</th>\n",
       "    </tr>\n",
       "  </thead>\n",
       "  <tbody>\n",
       "    <tr>\n",
       "      <th>0</th>\n",
       "      <td>781070</td>\n",
       "      <td>Olay</td>\n",
       "      <td>16752142</td>\n",
       "      <td>Worth buying 50g one</td>\n",
       "      <td>Works as it claims. Could see the difference f...</td>\n",
       "      <td>Ashton Dsouza</td>\n",
       "      <td>2021-01-23 15:17:18</td>\n",
       "      <td>5.0</td>\n",
       "      <td>True</td>\n",
       "      <td>False</td>\n",
       "      <td>Verified Buyer</td>\n",
       "      <td>Olay Ultra Lightweight Moisturiser: Luminous W...</td>\n",
       "      <td>1999</td>\n",
       "      <td>1599</td>\n",
       "      <td>4.1</td>\n",
       "      <td>43</td>\n",
       "      <td>NaN</td>\n",
       "      <td>https://www.nykaa.com/olay-ultra-lightweight-m...</td>\n",
       "      <td>[works, claims, difference, day, use, olay, cl...</td>\n",
       "    </tr>\n",
       "    <tr>\n",
       "      <th>1</th>\n",
       "      <td>781070</td>\n",
       "      <td>Olay</td>\n",
       "      <td>14682550</td>\n",
       "      <td>Best cream to start ur day</td>\n",
       "      <td>It does what it claims . Best thing is it smoo...</td>\n",
       "      <td>Amrit Neelam</td>\n",
       "      <td>2020-09-07 15:30:42</td>\n",
       "      <td>5.0</td>\n",
       "      <td>True</td>\n",
       "      <td>False</td>\n",
       "      <td>Verified Buyer</td>\n",
       "      <td>Olay Ultra Lightweight Moisturiser: Luminous W...</td>\n",
       "      <td>1999</td>\n",
       "      <td>1599</td>\n",
       "      <td>4.1</td>\n",
       "      <td>43</td>\n",
       "      <td>NaN</td>\n",
       "      <td>https://www.nykaa.com/olay-ultra-lightweight-m...</td>\n",
       "      <td>[does, claims, best, thing, smoothens, ur, ski...</td>\n",
       "    </tr>\n",
       "    <tr>\n",
       "      <th>2</th>\n",
       "      <td>781070</td>\n",
       "      <td>Olay</td>\n",
       "      <td>15618995</td>\n",
       "      <td>perfect for summers dry for winters</td>\n",
       "      <td>I have been using this product for months now....</td>\n",
       "      <td>Sanchi Gupta</td>\n",
       "      <td>2020-11-13 12:24:14</td>\n",
       "      <td>4.0</td>\n",
       "      <td>True</td>\n",
       "      <td>False</td>\n",
       "      <td>Verified Buyer</td>\n",
       "      <td>Olay Ultra Lightweight Moisturiser: Luminous W...</td>\n",
       "      <td>1999</td>\n",
       "      <td>1599</td>\n",
       "      <td>4.1</td>\n",
       "      <td>43</td>\n",
       "      <td>NaN</td>\n",
       "      <td>https://www.nykaa.com/olay-ultra-lightweight-m...</td>\n",
       "      <td>[using, product, months, perfect, combination,...</td>\n",
       "    </tr>\n",
       "    <tr>\n",
       "      <th>3</th>\n",
       "      <td>781070</td>\n",
       "      <td>Olay</td>\n",
       "      <td>13474509</td>\n",
       "      <td>Not a moisturizer</td>\n",
       "      <td>i have an oily skin, while this whip acts as a...</td>\n",
       "      <td>Ruchi Shah</td>\n",
       "      <td>2020-06-14 11:56:50</td>\n",
       "      <td>3.0</td>\n",
       "      <td>True</td>\n",
       "      <td>False</td>\n",
       "      <td>Verified Buyer</td>\n",
       "      <td>Olay Ultra Lightweight Moisturiser: Luminous W...</td>\n",
       "      <td>1999</td>\n",
       "      <td>1599</td>\n",
       "      <td>4.1</td>\n",
       "      <td>43</td>\n",
       "      <td>NaN</td>\n",
       "      <td>https://www.nykaa.com/olay-ultra-lightweight-m...</td>\n",
       "      <td>[oily, skin, whip, acts, great, base, primer, ...</td>\n",
       "    </tr>\n",
       "    <tr>\n",
       "      <th>4</th>\n",
       "      <td>781070</td>\n",
       "      <td>Olay</td>\n",
       "      <td>16338982</td>\n",
       "      <td>Average</td>\n",
       "      <td>It's not that good. Please refresh try for oth...</td>\n",
       "      <td>Sukanya Sarkar</td>\n",
       "      <td>2020-12-22 15:24:35</td>\n",
       "      <td>2.0</td>\n",
       "      <td>True</td>\n",
       "      <td>False</td>\n",
       "      <td>Verified Buyer</td>\n",
       "      <td>Olay Ultra Lightweight Moisturiser: Luminous W...</td>\n",
       "      <td>1999</td>\n",
       "      <td>1599</td>\n",
       "      <td>4.1</td>\n",
       "      <td>43</td>\n",
       "      <td>NaN</td>\n",
       "      <td>https://www.nykaa.com/olay-ultra-lightweight-m...</td>\n",
       "      <td>[good, refresh, try, products]</td>\n",
       "    </tr>\n",
       "    <tr>\n",
       "      <th>...</th>\n",
       "      <td>...</td>\n",
       "      <td>...</td>\n",
       "      <td>...</td>\n",
       "      <td>...</td>\n",
       "      <td>...</td>\n",
       "      <td>...</td>\n",
       "      <td>...</td>\n",
       "      <td>...</td>\n",
       "      <td>...</td>\n",
       "      <td>...</td>\n",
       "      <td>...</td>\n",
       "      <td>...</td>\n",
       "      <td>...</td>\n",
       "      <td>...</td>\n",
       "      <td>...</td>\n",
       "      <td>...</td>\n",
       "      <td>...</td>\n",
       "      <td>...</td>\n",
       "      <td>...</td>\n",
       "    </tr>\n",
       "    <tr>\n",
       "      <th>61279</th>\n",
       "      <td>1044490</td>\n",
       "      <td>Herbal Essences</td>\n",
       "      <td>17769058</td>\n",
       "      <td>Good</td>\n",
       "      <td>I use this thrice a week. Has helped me in mak...</td>\n",
       "      <td>Radhesh</td>\n",
       "      <td>2021-04-12 13:28:41</td>\n",
       "      <td>5.0</td>\n",
       "      <td>True</td>\n",
       "      <td>False</td>\n",
       "      <td>Verified Buyer</td>\n",
       "      <td>Herbal Essences Aloe &amp; Eucalyptus Shampoo For ...</td>\n",
       "      <td>750</td>\n",
       "      <td>525</td>\n",
       "      <td>4.3</td>\n",
       "      <td>512</td>\n",
       "      <td>FEATURED</td>\n",
       "      <td>https://www.nykaa.com/herbal-essences-potent-a...</td>\n",
       "      <td>[use, thrice, week, helped, making, hair, smoo...</td>\n",
       "    </tr>\n",
       "    <tr>\n",
       "      <th>61280</th>\n",
       "      <td>1044490</td>\n",
       "      <td>Herbal Essences</td>\n",
       "      <td>17766838</td>\n",
       "      <td>Great</td>\n",
       "      <td>This shampoo has a amazing fragnance and textu...</td>\n",
       "      <td>Shalini Sirohi</td>\n",
       "      <td>2021-04-12 11:47:07</td>\n",
       "      <td>5.0</td>\n",
       "      <td>True</td>\n",
       "      <td>False</td>\n",
       "      <td>Verified Buyer</td>\n",
       "      <td>Herbal Essences Aloe &amp; Eucalyptus Shampoo For ...</td>\n",
       "      <td>750</td>\n",
       "      <td>525</td>\n",
       "      <td>4.3</td>\n",
       "      <td>512</td>\n",
       "      <td>FEATURED</td>\n",
       "      <td>https://www.nykaa.com/herbal-essences-potent-a...</td>\n",
       "      <td>[shampoo, amazing, fragnance, texture, just, l...</td>\n",
       "    </tr>\n",
       "    <tr>\n",
       "      <th>61281</th>\n",
       "      <td>1044490</td>\n",
       "      <td>Herbal Essences</td>\n",
       "      <td>17765866</td>\n",
       "      <td>Really mild and nice</td>\n",
       "      <td>Used it for the first time, feels really fresh...</td>\n",
       "      <td>Sana kanted</td>\n",
       "      <td>2021-04-12 10:58:34</td>\n",
       "      <td>5.0</td>\n",
       "      <td>True</td>\n",
       "      <td>False</td>\n",
       "      <td>Verified Buyer</td>\n",
       "      <td>Herbal Essences Aloe &amp; Eucalyptus Shampoo For ...</td>\n",
       "      <td>750</td>\n",
       "      <td>525</td>\n",
       "      <td>4.3</td>\n",
       "      <td>512</td>\n",
       "      <td>FEATURED</td>\n",
       "      <td>https://www.nykaa.com/herbal-essences-potent-a...</td>\n",
       "      <td>[used, time, feels, really, fresh, using, itch...</td>\n",
       "    </tr>\n",
       "    <tr>\n",
       "      <th>61282</th>\n",
       "      <td>1044490</td>\n",
       "      <td>Herbal Essences</td>\n",
       "      <td>17761057</td>\n",
       "      <td>Amazing product!</td>\n",
       "      <td>One of the best shampoo which are sulphate and...</td>\n",
       "      <td>neeru chouhan</td>\n",
       "      <td>2021-04-11 21:44:55</td>\n",
       "      <td>5.0</td>\n",
       "      <td>True</td>\n",
       "      <td>False</td>\n",
       "      <td>Verified Buyer</td>\n",
       "      <td>Herbal Essences Aloe &amp; Eucalyptus Shampoo For ...</td>\n",
       "      <td>750</td>\n",
       "      <td>525</td>\n",
       "      <td>4.3</td>\n",
       "      <td>512</td>\n",
       "      <td>FEATURED</td>\n",
       "      <td>https://www.nykaa.com/herbal-essences-potent-a...</td>\n",
       "      <td>[best, shampoo, sulphate, paraben, free, makes...</td>\n",
       "    </tr>\n",
       "    <tr>\n",
       "      <th>61283</th>\n",
       "      <td>4633369</td>\n",
       "      <td>Colorbar</td>\n",
       "      <td>25987603</td>\n",
       "      <td>Not good</td>\n",
       "      <td>It is so irritating so bad i don't like this much</td>\n",
       "      <td>Mssuhv</td>\n",
       "      <td>2022-06-20 17:41:52</td>\n",
       "      <td>2.0</td>\n",
       "      <td>False</td>\n",
       "      <td>False</td>\n",
       "      <td>NaN</td>\n",
       "      <td>Colorbar Mogra Mist - Scent Of An India Temple...</td>\n",
       "      <td>595</td>\n",
       "      <td>417</td>\n",
       "      <td>1.5</td>\n",
       "      <td>2</td>\n",
       "      <td>NaN</td>\n",
       "      <td>https://www.nykaa.com/colorbar-mogra-mist-scen...</td>\n",
       "      <td>[irritating, bad, dont, like]</td>\n",
       "    </tr>\n",
       "  </tbody>\n",
       "</table>\n",
       "<p>61284 rows × 19 columns</p>\n",
       "</div>"
      ],
      "text/plain": [
       "       product_id       brand_name  review_id  \\\n",
       "0          781070             Olay   16752142   \n",
       "1          781070             Olay   14682550   \n",
       "2          781070             Olay   15618995   \n",
       "3          781070             Olay   13474509   \n",
       "4          781070             Olay   16338982   \n",
       "...           ...              ...        ...   \n",
       "61279     1044490  Herbal Essences   17769058   \n",
       "61280     1044490  Herbal Essences   17766838   \n",
       "61281     1044490  Herbal Essences   17765866   \n",
       "61282     1044490  Herbal Essences   17761057   \n",
       "61283     4633369         Colorbar   25987603   \n",
       "\n",
       "                              review_title  \\\n",
       "0                     Worth buying 50g one   \n",
       "1               Best cream to start ur day   \n",
       "2      perfect for summers dry for winters   \n",
       "3                        Not a moisturizer   \n",
       "4                                  Average   \n",
       "...                                    ...   \n",
       "61279                                 Good   \n",
       "61280                                Great   \n",
       "61281                 Really mild and nice   \n",
       "61282                     Amazing product!   \n",
       "61283                             Not good   \n",
       "\n",
       "                                             review_text          author  \\\n",
       "0      Works as it claims. Could see the difference f...   Ashton Dsouza   \n",
       "1      It does what it claims . Best thing is it smoo...    Amrit Neelam   \n",
       "2      I have been using this product for months now....    Sanchi Gupta   \n",
       "3      i have an oily skin, while this whip acts as a...      Ruchi Shah   \n",
       "4      It's not that good. Please refresh try for oth...  Sukanya Sarkar   \n",
       "...                                                  ...             ...   \n",
       "61279  I use this thrice a week. Has helped me in mak...         Radhesh   \n",
       "61280  This shampoo has a amazing fragnance and textu...  Shalini Sirohi   \n",
       "61281  Used it for the first time, feels really fresh...     Sana kanted   \n",
       "61282  One of the best shampoo which are sulphate and...   neeru chouhan   \n",
       "61283  It is so irritating so bad i don't like this much          Mssuhv   \n",
       "\n",
       "               review_date  review_rating  is_a_buyer  pro_user  \\\n",
       "0      2021-01-23 15:17:18            5.0        True     False   \n",
       "1      2020-09-07 15:30:42            5.0        True     False   \n",
       "2      2020-11-13 12:24:14            4.0        True     False   \n",
       "3      2020-06-14 11:56:50            3.0        True     False   \n",
       "4      2020-12-22 15:24:35            2.0        True     False   \n",
       "...                    ...            ...         ...       ...   \n",
       "61279  2021-04-12 13:28:41            5.0        True     False   \n",
       "61280  2021-04-12 11:47:07            5.0        True     False   \n",
       "61281  2021-04-12 10:58:34            5.0        True     False   \n",
       "61282  2021-04-11 21:44:55            5.0        True     False   \n",
       "61283  2022-06-20 17:41:52            2.0       False     False   \n",
       "\n",
       "         review_label                                      product_title  \\\n",
       "0      Verified Buyer  Olay Ultra Lightweight Moisturiser: Luminous W...   \n",
       "1      Verified Buyer  Olay Ultra Lightweight Moisturiser: Luminous W...   \n",
       "2      Verified Buyer  Olay Ultra Lightweight Moisturiser: Luminous W...   \n",
       "3      Verified Buyer  Olay Ultra Lightweight Moisturiser: Luminous W...   \n",
       "4      Verified Buyer  Olay Ultra Lightweight Moisturiser: Luminous W...   \n",
       "...               ...                                                ...   \n",
       "61279  Verified Buyer  Herbal Essences Aloe & Eucalyptus Shampoo For ...   \n",
       "61280  Verified Buyer  Herbal Essences Aloe & Eucalyptus Shampoo For ...   \n",
       "61281  Verified Buyer  Herbal Essences Aloe & Eucalyptus Shampoo For ...   \n",
       "61282  Verified Buyer  Herbal Essences Aloe & Eucalyptus Shampoo For ...   \n",
       "61283             NaN  Colorbar Mogra Mist - Scent Of An India Temple...   \n",
       "\n",
       "        mrp  price  product_rating  product_rating_count product_tags  \\\n",
       "0      1999   1599             4.1                    43          NaN   \n",
       "1      1999   1599             4.1                    43          NaN   \n",
       "2      1999   1599             4.1                    43          NaN   \n",
       "3      1999   1599             4.1                    43          NaN   \n",
       "4      1999   1599             4.1                    43          NaN   \n",
       "...     ...    ...             ...                   ...          ...   \n",
       "61279   750    525             4.3                   512     FEATURED   \n",
       "61280   750    525             4.3                   512     FEATURED   \n",
       "61281   750    525             4.3                   512     FEATURED   \n",
       "61282   750    525             4.3                   512     FEATURED   \n",
       "61283   595    417             1.5                     2          NaN   \n",
       "\n",
       "                                             product_url  \\\n",
       "0      https://www.nykaa.com/olay-ultra-lightweight-m...   \n",
       "1      https://www.nykaa.com/olay-ultra-lightweight-m...   \n",
       "2      https://www.nykaa.com/olay-ultra-lightweight-m...   \n",
       "3      https://www.nykaa.com/olay-ultra-lightweight-m...   \n",
       "4      https://www.nykaa.com/olay-ultra-lightweight-m...   \n",
       "...                                                  ...   \n",
       "61279  https://www.nykaa.com/herbal-essences-potent-a...   \n",
       "61280  https://www.nykaa.com/herbal-essences-potent-a...   \n",
       "61281  https://www.nykaa.com/herbal-essences-potent-a...   \n",
       "61282  https://www.nykaa.com/herbal-essences-potent-a...   \n",
       "61283  https://www.nykaa.com/colorbar-mogra-mist-scen...   \n",
       "\n",
       "                                        review_processed  \n",
       "0      [works, claims, difference, day, use, olay, cl...  \n",
       "1      [does, claims, best, thing, smoothens, ur, ski...  \n",
       "2      [using, product, months, perfect, combination,...  \n",
       "3      [oily, skin, whip, acts, great, base, primer, ...  \n",
       "4                         [good, refresh, try, products]  \n",
       "...                                                  ...  \n",
       "61279  [use, thrice, week, helped, making, hair, smoo...  \n",
       "61280  [shampoo, amazing, fragnance, texture, just, l...  \n",
       "61281  [used, time, feels, really, fresh, using, itch...  \n",
       "61282  [best, shampoo, sulphate, paraben, free, makes...  \n",
       "61283                      [irritating, bad, dont, like]  \n",
       "\n",
       "[61284 rows x 19 columns]"
      ]
     },
     "execution_count": 5,
     "metadata": {},
     "output_type": "execute_result"
    }
   ],
   "source": [
    "data"
   ]
  },
  {
   "cell_type": "code",
   "execution_count": 6,
   "metadata": {
    "id": "IgG0FApgWpB0"
   },
   "outputs": [],
   "source": [
    "model = Word2Vec(sentences=data['review_processed'].tolist(), vector_size=100, sg=1,min_count=5,window=5,workers=50,seed=10,epochs=50)\n",
    "#vector_size (int, optional) – Dimensionality of the word vectors.\n",
    "#min_count (int, optional) – Ignores all words with total frequency lower than this.\n",
    "#window (int, optional) – Maximum distance between the current and predicted word within a sentence.\n",
    "#workers (int, optional) – Use these many worker threads to train the model (=faster training with multicore machines).\n",
    "#sg ({0, 1}, optional) – Training algorithm: 1 for skip-gram; otherwise CBOW.\n",
    "#epochs (int, optional) – Number of iterations (epochs) over the corpus. (Formerly: iter)\n",
    "\n",
    "#The meaning of most of the parameters are beyond the scope of this class. If interested, please check the official documentations: https://radimrehurek.com/gensim/models/word2vec.html"
   ]
  },
  {
   "cell_type": "markdown",
   "metadata": {
    "id": "gApnMildqhbr"
   },
   "source": [
    "Be patient! This took ~6min for worker=50, ~9min for worker=25.\n",
    "\n",
    "Replace the 80k data with a smaller one if you encounter errors for multiple times!! (or increase min_count, or decrease vector_size, or decrease window, or decrease epochs)\n",
    "\n",
    "![image.png](data:image/png;base64,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)\n",
    "\n",
    "![image.png](data:image/png;base64,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)"
   ]
  },
  {
   "cell_type": "code",
   "execution_count": 7,
   "metadata": {
    "id": "pOEGR_TwnUz-"
   },
   "outputs": [],
   "source": [
    "model.save('w2v_dr.w2v')"
   ]
  },
  {
   "cell_type": "code",
   "execution_count": 8,
   "metadata": {
    "id": "cx4irfY8nimY"
   },
   "outputs": [],
   "source": [
    "model=Word2Vec.load('w2v_dr.w2v')"
   ]
  },
  {
   "cell_type": "code",
   "execution_count": 9,
   "metadata": {
    "id": "PWLAMRJOZUX5"
   },
   "outputs": [],
   "source": [
    "vocab = model.wv.index_to_key"
   ]
  },
  {
   "cell_type": "code",
   "execution_count": 10,
   "metadata": {
    "colab": {
     "base_uri": "https://localhost:8080/"
    },
    "id": "1bFsWaWgeaOd",
    "outputId": "723a1bc3-cee0-48c7-918f-b3732fcc553a"
   },
   "outputs": [
    {
     "data": {
      "text/plain": [
       "4831"
      ]
     },
     "execution_count": 10,
     "metadata": {},
     "output_type": "execute_result"
    }
   ],
   "source": [
    "len(vocab)"
   ]
  },
  {
   "cell_type": "code",
   "execution_count": 11,
   "metadata": {
    "colab": {
     "base_uri": "https://localhost:8080/"
    },
    "id": "jKwZ8owN_aoy",
    "outputId": "ec9555d6-7387-4d78-e2bc-dac2f2867b79"
   },
   "outputs": [
    {
     "data": {
      "text/plain": [
       "[('dewy', 0.6800746917724609),\n",
       " ('foundations', 0.6148651242256165),\n",
       " ('concealer', 0.5820146203041077),\n",
       " ('compact', 0.5759224891662598),\n",
       " ('cakey', 0.5718681216239929),\n",
       " ('y', 0.5710717439651489),\n",
       " ('glow', 0.5689124464988708),\n",
       " ('moisturizer', 0.5665680170059204),\n",
       " ('coverage', 0.5527960658073425),\n",
       " ('skin', 0.5463433265686035)]"
      ]
     },
     "execution_count": 11,
     "metadata": {},
     "output_type": "execute_result"
    }
   ],
   "source": [
    "model.wv.most_similar('foundation', topn=10)"
   ]
  },
  {
   "cell_type": "code",
   "execution_count": 12,
   "metadata": {
    "colab": {
     "base_uri": "https://localhost:8080/"
    },
    "id": "pV7SoEj6Hvwe",
    "outputId": "37cbdfd5-3b84-4358-8396-4df2c471ca8f"
   },
   "outputs": [
    {
     "data": {
      "text/plain": [
       "[('corrector', 0.6107832789421082),\n",
       " ('undereye', 0.6062320470809937),\n",
       " ('concealing', 0.6012243032455444),\n",
       " ('conceal', 0.5843921899795532),\n",
       " ('foundation', 0.5820146203041077),\n",
       " ('circles', 0.5639752149581909),\n",
       " ('concealers', 0.5503706932067871),\n",
       " ('coverage', 0.54736328125),\n",
       " ('concealor', 0.5471733212471008),\n",
       " ('blemishes', 0.5312806367874146),\n",
       " ('undereyes', 0.5103650689125061),\n",
       " ('sheer', 0.4964306950569153),\n",
       " ('correctors', 0.4843342900276184),\n",
       " ('circle', 0.48339858651161194),\n",
       " ('cakey', 0.4804217219352722),\n",
       " ('stick', 0.47806549072265625),\n",
       " ('bake', 0.47688937187194824),\n",
       " ('spots', 0.47552648186683655),\n",
       " ('creams', 0.4742962718009949),\n",
       " ('conceals', 0.4738861918449402),\n",
       " ('device', 0.4702950417995453),\n",
       " ('rewind', 0.46815454959869385),\n",
       " ('cancel', 0.4633055031299591),\n",
       " ('bb', 0.461148738861084),\n",
       " ('primer', 0.45602986216545105)]"
      ]
     },
     "execution_count": 12,
     "metadata": {},
     "output_type": "execute_result"
    }
   ],
   "source": [
    "model.wv.most_similar('concealer', topn=25)"
   ]
  },
  {
   "cell_type": "code",
   "execution_count": 13,
   "metadata": {
    "colab": {
     "base_uri": "https://localhost:8080/"
    },
    "id": "wKA3xlkcbNb6",
    "outputId": "15adf30c-2c99-4115-b6fc-e5ae36ddc36b"
   },
   "outputs": [
    {
     "data": {
      "text/plain": [
       "0.6062319"
      ]
     },
     "execution_count": 13,
     "metadata": {},
     "output_type": "execute_result"
    }
   ],
   "source": [
    "model.wv.similarity('concealer', 'undereye')"
   ]
  },
  {
   "cell_type": "code",
   "execution_count": 14,
   "metadata": {
    "colab": {
     "base_uri": "https://localhost:8080/"
    },
    "id": "wKtOd8tnbaDg",
    "outputId": "16b34236-6bcb-4a47-bc9c-11a05171269a"
   },
   "outputs": [
    {
     "data": {
      "text/plain": [
       "0.39219534"
      ]
     },
     "execution_count": 14,
     "metadata": {},
     "output_type": "execute_result"
    }
   ],
   "source": [
    "model.wv.similarity('concealer', 'face')"
   ]
  },
  {
   "cell_type": "code",
   "execution_count": 15,
   "metadata": {
    "colab": {
     "base_uri": "https://localhost:8080/"
    },
    "id": "Qgv5cIdBHZUi",
    "outputId": "c6e2cdd8-62fa-4341-a99a-3a114336be9b"
   },
   "outputs": [
    {
     "data": {
      "text/plain": [
       "0.20782784"
      ]
     },
     "execution_count": 15,
     "metadata": {},
     "output_type": "execute_result"
    }
   ],
   "source": [
    "model.wv.similarity('concealer', 'matte')"
   ]
  },
  {
   "cell_type": "code",
   "execution_count": 16,
   "metadata": {
    "colab": {
     "base_uri": "https://localhost:8080/"
    },
    "id": "Rol_5x_iHc5y",
    "outputId": "a80e3caf-abad-4ddd-838e-5e58c9c62f87"
   },
   "outputs": [
    {
     "data": {
      "text/plain": [
       "0.39962053"
      ]
     },
     "execution_count": 16,
     "metadata": {},
     "output_type": "execute_result"
    }
   ],
   "source": [
    "model.wv.similarity('concealer', 'dewy')"
   ]
  },
  {
   "cell_type": "code",
   "execution_count": 17,
   "metadata": {},
   "outputs": [
    {
     "data": {
      "text/plain": [
       "0.4560299"
      ]
     },
     "execution_count": 17,
     "metadata": {},
     "output_type": "execute_result"
    }
   ],
   "source": [
    "model.wv.similarity('concealer', 'primer')"
   ]
  },
  {
   "cell_type": "code",
   "execution_count": 18,
   "metadata": {
    "colab": {
     "base_uri": "https://localhost:8080/"
    },
    "id": "2m7UsWvXJy0z",
    "outputId": "49ce8e5b-e0e9-44d0-fefc-8dbde26f0bef"
   },
   "outputs": [
    {
     "ename": "NameError",
     "evalue": "name 'numpy' is not defined",
     "output_type": "error",
     "traceback": [
      "\u001b[0;31m---------------------------------------------------------------------------\u001b[0m",
      "\u001b[0;31mNameError\u001b[0m                                 Traceback (most recent call last)",
      "Cell \u001b[0;32mIn[18], line 6\u001b[0m\n\u001b[1;32m      4\u001b[0m v_primer \u001b[38;5;241m=\u001b[39m model\u001b[38;5;241m.\u001b[39mwv[\u001b[38;5;124m'\u001b[39m\u001b[38;5;124mprimer\u001b[39m\u001b[38;5;124m'\u001b[39m]\n\u001b[1;32m      5\u001b[0m best_product \u001b[38;5;241m=\u001b[39m v_concealer \u001b[38;5;241m+\u001b[39m v_undereye \u001b[38;5;241m+\u001b[39m v_dewy \u001b[38;5;241m+\u001b[39m v_primer\n\u001b[0;32m----> 6\u001b[0m numpy\u001b[38;5;241m.\u001b[39mdot(best_product, v_concealer)\u001b[38;5;241m/\u001b[39m(numpy\u001b[38;5;241m.\u001b[39mlinalg\u001b[38;5;241m.\u001b[39mnorm(best_product)\u001b[38;5;241m*\u001b[39m numpy\u001b[38;5;241m.\u001b[39mlinalg\u001b[38;5;241m.\u001b[39mnorm(v_concealer))\n",
      "\u001b[0;31mNameError\u001b[0m: name 'numpy' is not defined"
     ]
    }
   ],
   "source": [
    "v_concealer = model.wv['concealer']\n",
    "v_undereye = model.wv['undereye']\n",
    "v_dewy = model.wv['dewy']\n",
    "v_primer = model.wv['primer']\n",
    "best_product = v_concealer + v_undereye + v_dewy + v_primer\n",
    "numpy.dot(best_product, v_concealer)/(numpy.linalg.norm(best_product)* numpy.linalg.norm(v_concealer))"
   ]
  },
  {
   "cell_type": "code",
   "execution_count": 19,
   "metadata": {
    "colab": {
     "base_uri": "https://localhost:8080/"
    },
    "id": "XuMfapuLeJvR",
    "outputId": "a73648a2-a8b6-4311-c94b-0c199c0daaaa"
   },
   "outputs": [
    {
     "data": {
      "text/plain": [
       "(4831, 100)"
      ]
     },
     "execution_count": 19,
     "metadata": {},
     "output_type": "execute_result"
    }
   ],
   "source": [
    "model.wv.vectors.shape"
   ]
  },
  {
   "cell_type": "code",
   "execution_count": 20,
   "metadata": {
    "id": "CEMhumE_erN-"
   },
   "outputs": [],
   "source": [
    "outdata=pd.DataFrame(model.wv.vectors)"
   ]
  },
  {
   "cell_type": "code",
   "execution_count": 21,
   "metadata": {
    "colab": {
     "base_uri": "https://localhost:8080/",
     "height": 487
    },
    "id": "nm0uc9_Be6xf",
    "outputId": "50bd0b0b-28f3-4b43-fce6-8354e2f27a3d"
   },
   "outputs": [
    {
     "data": {
      "text/html": [
       "<div>\n",
       "<style scoped>\n",
       "    .dataframe tbody tr th:only-of-type {\n",
       "        vertical-align: middle;\n",
       "    }\n",
       "\n",
       "    .dataframe tbody tr th {\n",
       "        vertical-align: top;\n",
       "    }\n",
       "\n",
       "    .dataframe thead th {\n",
       "        text-align: right;\n",
       "    }\n",
       "</style>\n",
       "<table border=\"1\" class=\"dataframe\">\n",
       "  <thead>\n",
       "    <tr style=\"text-align: right;\">\n",
       "      <th></th>\n",
       "      <th>0</th>\n",
       "      <th>1</th>\n",
       "      <th>2</th>\n",
       "      <th>3</th>\n",
       "      <th>4</th>\n",
       "      <th>5</th>\n",
       "      <th>6</th>\n",
       "      <th>7</th>\n",
       "      <th>8</th>\n",
       "      <th>9</th>\n",
       "      <th>...</th>\n",
       "      <th>90</th>\n",
       "      <th>91</th>\n",
       "      <th>92</th>\n",
       "      <th>93</th>\n",
       "      <th>94</th>\n",
       "      <th>95</th>\n",
       "      <th>96</th>\n",
       "      <th>97</th>\n",
       "      <th>98</th>\n",
       "      <th>99</th>\n",
       "    </tr>\n",
       "  </thead>\n",
       "  <tbody>\n",
       "    <tr>\n",
       "      <th>0</th>\n",
       "      <td>0.316187</td>\n",
       "      <td>0.049514</td>\n",
       "      <td>0.206763</td>\n",
       "      <td>-0.119105</td>\n",
       "      <td>0.326776</td>\n",
       "      <td>-0.125381</td>\n",
       "      <td>-0.282285</td>\n",
       "      <td>-0.240996</td>\n",
       "      <td>-0.003556</td>\n",
       "      <td>-0.086935</td>\n",
       "      <td>...</td>\n",
       "      <td>-0.424474</td>\n",
       "      <td>-0.336053</td>\n",
       "      <td>-0.120556</td>\n",
       "      <td>-0.210660</td>\n",
       "      <td>-0.296452</td>\n",
       "      <td>-0.071926</td>\n",
       "      <td>0.323651</td>\n",
       "      <td>-0.214362</td>\n",
       "      <td>-0.019971</td>\n",
       "      <td>-0.051319</td>\n",
       "    </tr>\n",
       "    <tr>\n",
       "      <th>1</th>\n",
       "      <td>0.155609</td>\n",
       "      <td>0.063154</td>\n",
       "      <td>0.164557</td>\n",
       "      <td>-0.075478</td>\n",
       "      <td>0.247335</td>\n",
       "      <td>-0.069691</td>\n",
       "      <td>-0.143217</td>\n",
       "      <td>-0.352144</td>\n",
       "      <td>0.115454</td>\n",
       "      <td>0.243134</td>\n",
       "      <td>...</td>\n",
       "      <td>-0.101966</td>\n",
       "      <td>-0.236431</td>\n",
       "      <td>0.051185</td>\n",
       "      <td>-0.069436</td>\n",
       "      <td>-0.041700</td>\n",
       "      <td>-0.023309</td>\n",
       "      <td>-0.016819</td>\n",
       "      <td>0.019483</td>\n",
       "      <td>-0.022373</td>\n",
       "      <td>0.035710</td>\n",
       "    </tr>\n",
       "    <tr>\n",
       "      <th>2</th>\n",
       "      <td>0.308844</td>\n",
       "      <td>0.179375</td>\n",
       "      <td>0.134553</td>\n",
       "      <td>-0.038158</td>\n",
       "      <td>0.407676</td>\n",
       "      <td>-0.210557</td>\n",
       "      <td>-0.339016</td>\n",
       "      <td>-0.068386</td>\n",
       "      <td>0.035411</td>\n",
       "      <td>-0.296226</td>\n",
       "      <td>...</td>\n",
       "      <td>0.292106</td>\n",
       "      <td>0.241155</td>\n",
       "      <td>0.464883</td>\n",
       "      <td>0.016887</td>\n",
       "      <td>-0.138528</td>\n",
       "      <td>-0.748037</td>\n",
       "      <td>-0.067388</td>\n",
       "      <td>0.030198</td>\n",
       "      <td>-0.040071</td>\n",
       "      <td>-0.069189</td>\n",
       "    </tr>\n",
       "    <tr>\n",
       "      <th>3</th>\n",
       "      <td>0.056126</td>\n",
       "      <td>-0.171878</td>\n",
       "      <td>0.317603</td>\n",
       "      <td>-0.169018</td>\n",
       "      <td>0.266090</td>\n",
       "      <td>0.102808</td>\n",
       "      <td>-0.165429</td>\n",
       "      <td>-0.326918</td>\n",
       "      <td>-0.008945</td>\n",
       "      <td>-0.025551</td>\n",
       "      <td>...</td>\n",
       "      <td>-0.471043</td>\n",
       "      <td>0.093756</td>\n",
       "      <td>-0.024552</td>\n",
       "      <td>0.282684</td>\n",
       "      <td>0.097457</td>\n",
       "      <td>-0.181646</td>\n",
       "      <td>0.238621</td>\n",
       "      <td>0.123769</td>\n",
       "      <td>-0.202144</td>\n",
       "      <td>-0.106198</td>\n",
       "    </tr>\n",
       "    <tr>\n",
       "      <th>4</th>\n",
       "      <td>0.056376</td>\n",
       "      <td>-0.456575</td>\n",
       "      <td>-0.059696</td>\n",
       "      <td>-0.187609</td>\n",
       "      <td>0.101065</td>\n",
       "      <td>-0.384291</td>\n",
       "      <td>0.168362</td>\n",
       "      <td>-0.622749</td>\n",
       "      <td>0.484108</td>\n",
       "      <td>0.194569</td>\n",
       "      <td>...</td>\n",
       "      <td>-0.421895</td>\n",
       "      <td>-0.157944</td>\n",
       "      <td>-0.087066</td>\n",
       "      <td>-0.566641</td>\n",
       "      <td>0.130732</td>\n",
       "      <td>-0.384845</td>\n",
       "      <td>0.138948</td>\n",
       "      <td>-0.197073</td>\n",
       "      <td>0.079606</td>\n",
       "      <td>0.506935</td>\n",
       "    </tr>\n",
       "    <tr>\n",
       "      <th>...</th>\n",
       "      <td>...</td>\n",
       "      <td>...</td>\n",
       "      <td>...</td>\n",
       "      <td>...</td>\n",
       "      <td>...</td>\n",
       "      <td>...</td>\n",
       "      <td>...</td>\n",
       "      <td>...</td>\n",
       "      <td>...</td>\n",
       "      <td>...</td>\n",
       "      <td>...</td>\n",
       "      <td>...</td>\n",
       "      <td>...</td>\n",
       "      <td>...</td>\n",
       "      <td>...</td>\n",
       "      <td>...</td>\n",
       "      <td>...</td>\n",
       "      <td>...</td>\n",
       "      <td>...</td>\n",
       "      <td>...</td>\n",
       "      <td>...</td>\n",
       "    </tr>\n",
       "    <tr>\n",
       "      <th>4826</th>\n",
       "      <td>0.153675</td>\n",
       "      <td>-0.128227</td>\n",
       "      <td>0.389378</td>\n",
       "      <td>0.296427</td>\n",
       "      <td>0.198430</td>\n",
       "      <td>0.380162</td>\n",
       "      <td>-0.032096</td>\n",
       "      <td>-0.253445</td>\n",
       "      <td>0.083625</td>\n",
       "      <td>0.305902</td>\n",
       "      <td>...</td>\n",
       "      <td>-0.452714</td>\n",
       "      <td>0.496468</td>\n",
       "      <td>0.246594</td>\n",
       "      <td>-0.011289</td>\n",
       "      <td>0.612702</td>\n",
       "      <td>-0.035005</td>\n",
       "      <td>0.031468</td>\n",
       "      <td>0.316056</td>\n",
       "      <td>0.399960</td>\n",
       "      <td>-0.466437</td>\n",
       "    </tr>\n",
       "    <tr>\n",
       "      <th>4827</th>\n",
       "      <td>0.278672</td>\n",
       "      <td>-0.114127</td>\n",
       "      <td>-0.008159</td>\n",
       "      <td>0.226817</td>\n",
       "      <td>-0.116925</td>\n",
       "      <td>0.249746</td>\n",
       "      <td>-0.243554</td>\n",
       "      <td>-0.142150</td>\n",
       "      <td>0.823476</td>\n",
       "      <td>0.553841</td>\n",
       "      <td>...</td>\n",
       "      <td>-0.553111</td>\n",
       "      <td>0.309509</td>\n",
       "      <td>0.250789</td>\n",
       "      <td>-0.327922</td>\n",
       "      <td>-0.170452</td>\n",
       "      <td>-0.313374</td>\n",
       "      <td>0.516757</td>\n",
       "      <td>-0.061867</td>\n",
       "      <td>0.396164</td>\n",
       "      <td>0.584343</td>\n",
       "    </tr>\n",
       "    <tr>\n",
       "      <th>4828</th>\n",
       "      <td>0.480594</td>\n",
       "      <td>-0.070924</td>\n",
       "      <td>0.055278</td>\n",
       "      <td>-0.091534</td>\n",
       "      <td>0.602793</td>\n",
       "      <td>-0.170807</td>\n",
       "      <td>-0.861144</td>\n",
       "      <td>-0.669043</td>\n",
       "      <td>-0.240228</td>\n",
       "      <td>-0.804099</td>\n",
       "      <td>...</td>\n",
       "      <td>-0.576094</td>\n",
       "      <td>-0.492281</td>\n",
       "      <td>-0.065613</td>\n",
       "      <td>-0.292435</td>\n",
       "      <td>0.113133</td>\n",
       "      <td>-0.258826</td>\n",
       "      <td>-0.041425</td>\n",
       "      <td>-0.046141</td>\n",
       "      <td>0.241403</td>\n",
       "      <td>-0.139459</td>\n",
       "    </tr>\n",
       "    <tr>\n",
       "      <th>4829</th>\n",
       "      <td>0.026044</td>\n",
       "      <td>0.144720</td>\n",
       "      <td>0.063075</td>\n",
       "      <td>-0.299240</td>\n",
       "      <td>0.818220</td>\n",
       "      <td>0.286781</td>\n",
       "      <td>-0.102092</td>\n",
       "      <td>-0.388349</td>\n",
       "      <td>0.353715</td>\n",
       "      <td>-0.166429</td>\n",
       "      <td>...</td>\n",
       "      <td>-0.543094</td>\n",
       "      <td>-0.290631</td>\n",
       "      <td>-0.323527</td>\n",
       "      <td>-0.028763</td>\n",
       "      <td>-0.592306</td>\n",
       "      <td>0.213557</td>\n",
       "      <td>0.140229</td>\n",
       "      <td>0.245256</td>\n",
       "      <td>0.038451</td>\n",
       "      <td>-0.490858</td>\n",
       "    </tr>\n",
       "    <tr>\n",
       "      <th>4830</th>\n",
       "      <td>0.325468</td>\n",
       "      <td>-0.256570</td>\n",
       "      <td>-0.210151</td>\n",
       "      <td>0.362893</td>\n",
       "      <td>0.337134</td>\n",
       "      <td>0.023400</td>\n",
       "      <td>0.232212</td>\n",
       "      <td>-0.570185</td>\n",
       "      <td>0.319410</td>\n",
       "      <td>0.127341</td>\n",
       "      <td>...</td>\n",
       "      <td>-0.524795</td>\n",
       "      <td>-0.433349</td>\n",
       "      <td>-0.561829</td>\n",
       "      <td>-0.040771</td>\n",
       "      <td>0.101799</td>\n",
       "      <td>0.204900</td>\n",
       "      <td>0.343906</td>\n",
       "      <td>0.076141</td>\n",
       "      <td>0.122517</td>\n",
       "      <td>-0.131043</td>\n",
       "    </tr>\n",
       "  </tbody>\n",
       "</table>\n",
       "<p>4831 rows × 100 columns</p>\n",
       "</div>"
      ],
      "text/plain": [
       "            0         1         2         3         4         5         6   \\\n",
       "0     0.316187  0.049514  0.206763 -0.119105  0.326776 -0.125381 -0.282285   \n",
       "1     0.155609  0.063154  0.164557 -0.075478  0.247335 -0.069691 -0.143217   \n",
       "2     0.308844  0.179375  0.134553 -0.038158  0.407676 -0.210557 -0.339016   \n",
       "3     0.056126 -0.171878  0.317603 -0.169018  0.266090  0.102808 -0.165429   \n",
       "4     0.056376 -0.456575 -0.059696 -0.187609  0.101065 -0.384291  0.168362   \n",
       "...        ...       ...       ...       ...       ...       ...       ...   \n",
       "4826  0.153675 -0.128227  0.389378  0.296427  0.198430  0.380162 -0.032096   \n",
       "4827  0.278672 -0.114127 -0.008159  0.226817 -0.116925  0.249746 -0.243554   \n",
       "4828  0.480594 -0.070924  0.055278 -0.091534  0.602793 -0.170807 -0.861144   \n",
       "4829  0.026044  0.144720  0.063075 -0.299240  0.818220  0.286781 -0.102092   \n",
       "4830  0.325468 -0.256570 -0.210151  0.362893  0.337134  0.023400  0.232212   \n",
       "\n",
       "            7         8         9   ...        90        91        92  \\\n",
       "0    -0.240996 -0.003556 -0.086935  ... -0.424474 -0.336053 -0.120556   \n",
       "1    -0.352144  0.115454  0.243134  ... -0.101966 -0.236431  0.051185   \n",
       "2    -0.068386  0.035411 -0.296226  ...  0.292106  0.241155  0.464883   \n",
       "3    -0.326918 -0.008945 -0.025551  ... -0.471043  0.093756 -0.024552   \n",
       "4    -0.622749  0.484108  0.194569  ... -0.421895 -0.157944 -0.087066   \n",
       "...        ...       ...       ...  ...       ...       ...       ...   \n",
       "4826 -0.253445  0.083625  0.305902  ... -0.452714  0.496468  0.246594   \n",
       "4827 -0.142150  0.823476  0.553841  ... -0.553111  0.309509  0.250789   \n",
       "4828 -0.669043 -0.240228 -0.804099  ... -0.576094 -0.492281 -0.065613   \n",
       "4829 -0.388349  0.353715 -0.166429  ... -0.543094 -0.290631 -0.323527   \n",
       "4830 -0.570185  0.319410  0.127341  ... -0.524795 -0.433349 -0.561829   \n",
       "\n",
       "            93        94        95        96        97        98        99  \n",
       "0    -0.210660 -0.296452 -0.071926  0.323651 -0.214362 -0.019971 -0.051319  \n",
       "1    -0.069436 -0.041700 -0.023309 -0.016819  0.019483 -0.022373  0.035710  \n",
       "2     0.016887 -0.138528 -0.748037 -0.067388  0.030198 -0.040071 -0.069189  \n",
       "3     0.282684  0.097457 -0.181646  0.238621  0.123769 -0.202144 -0.106198  \n",
       "4    -0.566641  0.130732 -0.384845  0.138948 -0.197073  0.079606  0.506935  \n",
       "...        ...       ...       ...       ...       ...       ...       ...  \n",
       "4826 -0.011289  0.612702 -0.035005  0.031468  0.316056  0.399960 -0.466437  \n",
       "4827 -0.327922 -0.170452 -0.313374  0.516757 -0.061867  0.396164  0.584343  \n",
       "4828 -0.292435  0.113133 -0.258826 -0.041425 -0.046141  0.241403 -0.139459  \n",
       "4829 -0.028763 -0.592306  0.213557  0.140229  0.245256  0.038451 -0.490858  \n",
       "4830 -0.040771  0.101799  0.204900  0.343906  0.076141  0.122517 -0.131043  \n",
       "\n",
       "[4831 rows x 100 columns]"
      ]
     },
     "execution_count": 21,
     "metadata": {},
     "output_type": "execute_result"
    }
   ],
   "source": [
    "outdata"
   ]
  },
  {
   "cell_type": "code",
   "execution_count": 22,
   "metadata": {
    "id": "Utl-1WvzfL6j"
   },
   "outputs": [],
   "source": [
    "outdata.to_csv('word2vec_data.tsv',sep='\\t',index=False,header=False)"
   ]
  },
  {
   "cell_type": "code",
   "execution_count": 23,
   "metadata": {
    "id": "6o-ZIJDTknFg"
   },
   "outputs": [],
   "source": [
    "pd.DataFrame(model.wv.index_to_key).to_csv('word2vec_data_words.tsv',sep='\\t',index=False,header=False)"
   ]
  },
  {
   "cell_type": "code",
   "execution_count": null,
   "metadata": {
    "id": "8t3ViWmGNtmp"
   },
   "outputs": [],
   "source": []
  },
  {
   "cell_type": "code",
   "execution_count": null,
   "metadata": {
    "id": "4H5b08N0NtkL"
   },
   "outputs": [],
   "source": []
  },
  {
   "cell_type": "code",
   "execution_count": null,
   "metadata": {
    "id": "qbCGwEPOniQ6"
   },
   "outputs": [],
   "source": [
    "\n"
   ]
  },
  {
   "cell_type": "code",
   "execution_count": null,
   "metadata": {
    "id": "35HllFovNvkc"
   },
   "outputs": [],
   "source": [
    "https://projector.tensorflow.org/\n"
   ]
  }
 ],
 "metadata": {
  "colab": {
   "provenance": []
  },
  "kernelspec": {
   "display_name": "Python 3 (ipykernel)",
   "language": "python",
   "name": "python3"
  },
  "language_info": {
   "codemirror_mode": {
    "name": "ipython",
    "version": 3
   },
   "file_extension": ".py",
   "mimetype": "text/x-python",
   "name": "python",
   "nbconvert_exporter": "python",
   "pygments_lexer": "ipython3",
   "version": "3.11.5"
  }
 },
 "nbformat": 4,
 "nbformat_minor": 1
}
